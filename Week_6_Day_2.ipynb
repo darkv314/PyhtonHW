{
  "cells": [
    {
      "cell_type": "markdown",
      "metadata": {
        "id": "lcu5Ynw8uGZ2"
      },
      "source": [
        "## Exercise 1\n",
        "\n",
        "Write `game` function in such way it uses the following posibilities list\n",
        "\n",
        "```python\n",
        "posibilities = [\n",
        "    ('scissors', 'cuts', 'paper'),\n",
        "    ('paper', 'covers', 'rock'),\n",
        "    ('rock', 'crushes', 'lizard'),\n",
        "    ('lizard', 'poison', 'spock'),\n",
        "    ( 'spock', 'smashes', 'scissors'),\n",
        "    ( 'scissors', 'decapitate', 'lizard'),\n",
        "    ( 'lizard', 'eats', 'paper'),\n",
        "    ( 'paper', 'disproves', 'spock'),\n",
        "    ( 'spock', 'vaporizes', 'rock'),\n",
        "    ( 'rock', 'crushes', 'scissors'),\n",
        "]\n",
        "```\n",
        "\n",
        "And passes the asserts that are specified below\n"
      ]
    },
    {
      "cell_type": "code",
      "execution_count": 1,
      "metadata": {
        "id": "qKebzevRrcZ3"
      },
      "outputs": [],
      "source": [
        "posibilities = [\n",
        "    ('scissors', 'cuts', 'paper'),\n",
        "    ('paper', 'covers', 'rock'),\n",
        "    ('rock', 'crushes', 'lizard'),\n",
        "    ('lizard', 'poison', 'spock'),\n",
        "    ( 'spock', 'smashes', 'scissors'),\n",
        "    ( 'scissors', 'decapitate', 'lizard'),\n",
        "    ( 'lizard', 'eats', 'paper'),\n",
        "    ( 'paper', 'disproves', 'spock'),\n",
        "    ( 'spock', 'vaporizes', 'rock'),\n",
        "    ( 'rock', 'crushes', 'scissors'),\n",
        "]"
      ]
    },
    {
      "cell_type": "code",
      "execution_count": 5,
      "metadata": {
        "id": "KVcx9by2vROZ"
      },
      "outputs": [],
      "source": [
        "def game(player1_input, player2_input):\n",
        "    if player1_input and player2_input:\n",
        "        if player1_input == player2_input:\n",
        "            print('Draw')\n",
        "        else:\n",
        "            matched = [case for case in posibilities if player1_input in case and player2_input in case]\n",
        "            if len(matched) == 1:\n",
        "                return \" \".join(matched[0])\n",
        "            else:\n",
        "                return None\n",
        "    else:\n",
        "        return None"
      ]
    },
    {
      "cell_type": "code",
      "execution_count": 6,
      "metadata": {
        "id": "UcH7NKl_uRVJ"
      },
      "outputs": [
        {
          "name": "stdout",
          "output_type": "stream",
          "text": [
            "143 ns ± 2 ns per loop (mean ± std. dev. of 7 runs, 10,000,000 loops each)\n",
            "166 ns ± 10.5 ns per loop (mean ± std. dev. of 7 runs, 10,000,000 loops each)\n",
            "1.06 µs ± 31.9 ns per loop (mean ± std. dev. of 7 runs, 1,000,000 loops each)\n",
            "1.31 µs ± 25.1 ns per loop (mean ± std. dev. of 7 runs, 1,000,000 loops each)\n",
            "1.31 µs ± 52 ns per loop (mean ± std. dev. of 7 runs, 1,000,000 loops each)\n",
            "1.31 µs ± 51.3 ns per loop (mean ± std. dev. of 7 runs, 1,000,000 loops each)\n",
            "1.27 µs ± 15.2 ns per loop (mean ± std. dev. of 7 runs, 1,000,000 loops each)\n",
            "1.26 µs ± 17.9 ns per loop (mean ± std. dev. of 7 runs, 1,000,000 loops each)\n",
            "1.26 µs ± 16.1 ns per loop (mean ± std. dev. of 7 runs, 1,000,000 loops each)\n",
            "1.25 µs ± 17.6 ns per loop (mean ± std. dev. of 7 runs, 1,000,000 loops each)\n",
            "1.26 µs ± 11.9 ns per loop (mean ± std. dev. of 7 runs, 1,000,000 loops each)\n",
            "1.25 µs ± 31.6 ns per loop (mean ± std. dev. of 7 runs, 1,000,000 loops each)\n",
            "1.29 µs ± 43.3 ns per loop (mean ± std. dev. of 7 runs, 1,000,000 loops each)\n"
          ]
        }
      ],
      "source": [
        "%timeit assert game(None, None) == None, 'Expected value is `None`'\n",
        "%timeit assert game('', None) == None, 'Expected value is `None`'\n",
        "%timeit assert game('Tijera', 'PAper') == None, 'Expected value is `None`'\n",
        "%timeit assert game('scissors', 'paper') == 'scissors cuts paper', 'Expected value is `scissors cuts paper`'\n",
        "%timeit assert game('paper', 'rock') == 'paper covers rock', 'Expected value is `paper covers rock`'\n",
        "%timeit assert game('rock', 'lizard') == 'rock crushes lizard', 'Expected value is `rock crushes lizard`'\n",
        "%timeit assert game('lizard', 'spock') == 'lizard poison spock', 'Expected value is `lizard poison spock`'\n",
        "%timeit assert game('spock', 'scissors') == 'spock smashes scissors', 'Expected value is `spock smashes scissors`'\n",
        "%timeit assert game('scissors', 'lizard') == 'scissors decapitate lizard', 'Expected value is `scissors decapitate lizard`'\n",
        "%timeit assert game('lizard', 'paper') == 'lizard eats paper', 'Expected value is `lizard eats paper`'\n",
        "%timeit assert game('paper', 'spock') == 'paper disproves spock', 'Expected value is `paper disproves spock`'\n",
        "%timeit assert game('spock', 'rock') == 'spock vaporizes rock', 'Expected value is `spock vaporizes rock`'\n",
        "%timeit assert game('rock', 'scissors') == 'rock crushes scissors', 'Expected value is `rock crushes scissors`'"
      ]
    },
    {
      "cell_type": "markdown",
      "metadata": {
        "id": "ugbsH8ZiuyZh"
      },
      "source": [
        "## Exercise 2\n",
        "\n",
        "Write `game` function in such way it uses the following posibilities dictionary\n",
        "\n",
        "```python\n",
        "posibilities = {\n",
        "    'cuts': ['scissors', 'paper'],\n",
        "    'covers': ['paper', 'rock'],\n",
        "    'crushes': ['rock', 'lizard'],\n",
        "    'poison': ['lizard', 'spock'],\n",
        "    'smashes': ['spock', 'scissors'],\n",
        "    'decapitate': ['scissors', 'lizard'],\n",
        "    'eats': ['lizard', 'paper'], \n",
        "    'disproves': ['paper', 'spock'],\n",
        "    'vaporizes': ['spock', 'rock'], \n",
        "    'crushes': ['scissors', 'rock'], \n",
        "}\n",
        "```\n",
        "\n",
        "And passes the asserts that are specified below\n"
      ]
    },
    {
      "cell_type": "code",
      "execution_count": 26,
      "metadata": {
        "id": "oa3AE-4FJEjK"
      },
      "outputs": [],
      "source": [
        "posibilities = {\n",
        "    'cuts': ['scissors', 'paper'],\n",
        "    'covers': ['paper', 'rock'],\n",
        "    'crushes': ['rock', 'lizard'],\n",
        "    'poison': ['lizard', 'spock'],\n",
        "    'smashes': ['spock', 'scissors'],\n",
        "    'decapitate': ['scissors', 'lizard'],\n",
        "    'eats': ['lizard', 'paper'], \n",
        "    'disproves': ['paper', 'spock'],\n",
        "    'vaporizes': ['spock', 'rock'], \n",
        "    'crushes': ['scissors', 'rock'], \n",
        "}\n",
        "# We have to realize here that there are 2 'crushes' entries which will end \n",
        "# with a dictionary with only one 'crushes' entry containing the last value\n",
        "# added, so this solution doesn't work \n",
        "# If we want this to work, we could do the following changes:\n",
        "posibilities = {\n",
        "    'cuts': [['scissors', 'paper']],\n",
        "    'covers': [['paper', 'rock']],\n",
        "    'crushes': [['rock', 'lizard'], ['rock', 'scissors']],\n",
        "    'poison': [['lizard', 'spock']],\n",
        "    'smashes': [['spock', 'scissors']],\n",
        "    'decapitate': [['scissors', 'lizard']],\n",
        "    'eats': [['lizard', 'paper']], \n",
        "    'disproves': [['paper', 'spock']],\n",
        "    'vaporizes': [['spock', 'rock']]\n",
        "}"
      ]
    },
    {
      "cell_type": "code",
      "execution_count": 29,
      "metadata": {
        "id": "lTNRUbGMvGX3"
      },
      "outputs": [],
      "source": [
        "def game(player1_input, player2_input):\n",
        "    if player1_input and player2_input:\n",
        "        if player1_input == player2_input:\n",
        "            return 'Player1 and Player2 are even!'\n",
        "        else:\n",
        "            items = posibilities.items()\n",
        "            case = [player1_input, player2_input]\n",
        "            result = None\n",
        "            for item in items:\n",
        "                if case in item[1]:\n",
        "                    result = f'{player1_input} {item[0]} {player2_input}'\n",
        "                    break\n",
        "            return result\n",
        "    else:\n",
        "        return None"
      ]
    },
    {
      "cell_type": "code",
      "execution_count": 31,
      "metadata": {
        "id": "AqvREdliHqAp"
      },
      "outputs": [
        {
          "name": "stdout",
          "output_type": "stream",
          "text": [
            "111 ns ± 6.92 ns per loop (mean ± std. dev. of 7 runs, 10,000,000 loops each)\n",
            "116 ns ± 8.31 ns per loop (mean ± std. dev. of 7 runs, 10,000,000 loops each)\n",
            "1.25 µs ± 177 ns per loop (mean ± std. dev. of 7 runs, 1,000,000 loops each)\n",
            "552 ns ± 124 ns per loop (mean ± std. dev. of 7 runs, 1,000,000 loops each)\n",
            "602 ns ± 19.3 ns per loop (mean ± std. dev. of 7 runs, 1,000,000 loops each)\n",
            "658 ns ± 25.8 ns per loop (mean ± std. dev. of 7 runs, 1,000,000 loops each)\n",
            "743 ns ± 10.8 ns per loop (mean ± std. dev. of 7 runs, 1,000,000 loops each)\n",
            "816 ns ± 24.6 ns per loop (mean ± std. dev. of 7 runs, 1,000,000 loops each)\n",
            "896 ns ± 34.7 ns per loop (mean ± std. dev. of 7 runs, 1,000,000 loops each)\n",
            "971 ns ± 49.2 ns per loop (mean ± std. dev. of 7 runs, 1,000,000 loops each)\n",
            "1.06 µs ± 38.1 ns per loop (mean ± std. dev. of 7 runs, 1,000,000 loops each)\n",
            "1.16 µs ± 54.2 ns per loop (mean ± std. dev. of 7 runs, 1,000,000 loops each)\n",
            "716 ns ± 19.1 ns per loop (mean ± std. dev. of 7 runs, 1,000,000 loops each)\n"
          ]
        }
      ],
      "source": [
        "%timeit assert game(None, None) == None, 'Expected value is `None`'\n",
        "%timeit assert game('', None) == None, 'Expected value is `None`'\n",
        "%timeit assert game('Tijera', 'PAper') == None, 'Expected value is `None`'\n",
        "%timeit assert game('scissors', 'paper') == 'scissors cuts paper', 'Expected value is `scissors cuts paper`'\n",
        "%timeit assert game('paper', 'rock') == 'paper covers rock', 'Expected value is `paper covers rock`'\n",
        "%timeit assert game('rock', 'lizard') == 'rock crushes lizard', 'Expected value is `rock crushes lizard`'\n",
        "%timeit assert game('lizard', 'spock') == 'lizard poison spock', 'Expected value is `lizard poison spock`'\n",
        "%timeit assert game('spock', 'scissors') == 'spock smashes scissors', 'Expected value is `spock smashes scissors`'\n",
        "%timeit assert game('scissors', 'lizard') == 'scissors decapitate lizard', 'Expected value is `scissors decapitate lizard`'\n",
        "%timeit assert game('lizard', 'paper') == 'lizard eats paper', 'Expected value is `lizard eats paper`'\n",
        "%timeit assert game('paper', 'spock') == 'paper disproves spock', 'Expected value is `paper disproves spock`'\n",
        "%timeit assert game('spock', 'rock') == 'spock vaporizes rock', 'Expected value is `spock vaporizes rock`'\n",
        "%timeit assert game('rock', 'scissors') == 'rock crushes scissors', 'Expected value is `rock crushes scissors`'"
      ]
    },
    {
      "cell_type": "markdown",
      "metadata": {
        "id": "1H2ObqeAxnUE"
      },
      "source": [
        "## Exercise 3\n",
        "\n",
        "Write `game` function in such way it uses the following posibilities dictionary\n",
        "\n",
        "```python\n",
        "posibilities = {\n",
        "    'cuts': ['scissors', 'paper'],\n",
        "    'covers': ['paper', 'rock'],\n",
        "    'crushes': ['rock', 'lizard'],\n",
        "    'poison': ['lizard', 'spock'],\n",
        "    'smashes': ['spock', 'scissors'],\n",
        "    'decapitate': ['scissors', 'lizard'],\n",
        "    'eats': ['lizard', 'paper'], \n",
        "    'disproves': ['paper', 'spock'],\n",
        "    'vaporizes': ['spock', 'rock'], \n",
        "    'crushes': ['scissors', 'rock'], \n",
        "}\n",
        "```\n",
        "\n",
        "And passes the asserts that are specified below"
      ]
    },
    {
      "cell_type": "code",
      "execution_count": 36,
      "metadata": {
        "id": "hHXFbstfyRxR"
      },
      "outputs": [],
      "source": [
        "def game(player1_input, player2_input):\n",
        "    if player1_input and player2_input:\n",
        "        if player1_input['option'] == player2_input['option']:\n",
        "            return 'Player1 and Player2 are even!'\n",
        "        else:\n",
        "            items = posibilities.items()\n",
        "            case = [player1_input['option'], player2_input['option']]\n",
        "            result = None\n",
        "            for item in items:\n",
        "                if case in item[1]:\n",
        "                    result = f'{player1_input[\"option\"]} {item[0]} {player2_input[\"option\"]}, Player{player1_input[\"id\"]} won!'\n",
        "                    break\n",
        "            return result\n",
        "    else:\n",
        "        return None"
      ]
    },
    {
      "cell_type": "code",
      "execution_count": 38,
      "metadata": {
        "id": "ALzA96_i0qAG"
      },
      "outputs": [
        {
          "name": "stdout",
          "output_type": "stream",
          "text": [
            "114 ns ± 6.87 ns per loop (mean ± std. dev. of 7 runs, 10,000,000 loops each)\n",
            "117 ns ± 8.29 ns per loop (mean ± std. dev. of 7 runs, 10,000,000 loops each)\n",
            "137 ns ± 8.61 ns per loop (mean ± std. dev. of 7 runs, 10,000,000 loops each)\n",
            "1.32 µs ± 36.8 ns per loop (mean ± std. dev. of 7 runs, 1,000,000 loops each)\n",
            "329 ns ± 11.2 ns per loop (mean ± std. dev. of 7 runs, 1,000,000 loops each)\n"
          ]
        }
      ],
      "source": [
        "%timeit assert game(None, None) == None, 'Expected value is `None`'\n",
        "\n",
        "%timeit assert game('', None) == None, 'Expected value is `None`'\n",
        "\n",
        "%timeit assert game({}, {}) == None, 'Expected value is `None`'\n",
        "\n",
        "%timeit assert game({'id': 1, 'option': 'Tijera'}, {'id': 2, 'option': 'PAper'}) == None, 'Expected value is `None`'\n",
        "\n",
        "%timeit assert game({'id': 1, 'option': 'scissors'}, {'id': 2, 'option': 'scissors'}) == 'Player1 and Player2 are even!', 'Expected value is `Player1 and Player2 are even!`'\n"
      ]
    },
    {
      "cell_type": "code",
      "execution_count": 39,
      "metadata": {
        "id": "0LtrPhW3yYMa"
      },
      "outputs": [
        {
          "name": "stdout",
          "output_type": "stream",
          "text": [
            "964 ns ± 45.7 ns per loop (mean ± std. dev. of 7 runs, 1,000,000 loops each)\n",
            "1.04 µs ± 45.8 ns per loop (mean ± std. dev. of 7 runs, 1,000,000 loops each)\n",
            "1.09 µs ± 22 ns per loop (mean ± std. dev. of 7 runs, 1,000,000 loops each)\n",
            "1.22 µs ± 36 ns per loop (mean ± std. dev. of 7 runs, 1,000,000 loops each)\n",
            "1.31 µs ± 39.4 ns per loop (mean ± std. dev. of 7 runs, 1,000,000 loops each)\n",
            "1.4 µs ± 37.1 ns per loop (mean ± std. dev. of 7 runs, 1,000,000 loops each)\n",
            "1.46 µs ± 40.1 ns per loop (mean ± std. dev. of 7 runs, 1,000,000 loops each)\n",
            "1.54 µs ± 17 ns per loop (mean ± std. dev. of 7 runs, 1,000,000 loops each)\n",
            "1.62 µs ± 69.6 ns per loop (mean ± std. dev. of 7 runs, 1,000,000 loops each)\n",
            "1.16 µs ± 20.4 ns per loop (mean ± std. dev. of 7 runs, 1,000,000 loops each)\n"
          ]
        }
      ],
      "source": [
        "%timeit assert game({'id': 1, 'option': 'scissors'}, {'id': 2, 'option': 'paper'}) == 'scissors cuts paper, Player1 won!', 'Expected value is `scissors cuts paper, Player1 won!`'\n",
        "\n",
        "%timeit assert game({'id': 1, 'option': 'paper'}, {'id': 2, 'option': 'rock'}) == 'paper covers rock, Player1 won!', 'Expected value is `paper covers rock, Player1 won!`'\n",
        "\n",
        "%timeit assert game({'id': 1, 'option': 'rock'}, {'id': 2, 'option': 'lizard'}) == 'rock crushes lizard, Player1 won!', 'Expected value is `rock crushes lizard, Player1 won!`'\n",
        "\n",
        "%timeit assert game({'id': 1, 'option': 'lizard'}, {'id': 2, 'option': 'spock'}) == 'lizard poison spock, Player1 won!', 'Expected value is `lizard poison spock, Player1 won!`'\n",
        "\n",
        "%timeit assert game({'id': 1, 'option': 'spock'}, {'id': 2, 'option': 'scissors'}) == 'spock smashes scissors, Player1 won!', 'Expected value is `spock smashes scissors, Player1 won!`'\n",
        "\n",
        "%timeit assert game({'id': 1, 'option': 'scissors'}, {'id': 2, 'option': 'lizard'}) == 'scissors decapitate lizard, Player1 won!', 'Expected value is `scissors decapitate lizard, Player1 won!`'\n",
        "\n",
        "%timeit assert game({'id': 1, 'option': 'lizard'}, {'id': 2, 'option': 'paper'}) == 'lizard eats paper, Player1 won!', 'Expected value is `lizard eats paper, Player1 won!`'\n",
        "\n",
        "%timeit assert game({'id': 1, 'option': 'paper'}, {'id': 2, 'option': 'spock'}) == 'paper disproves spock, Player1 won!', 'Expected value is `paper disproves spock, Player1 won!`'\n",
        "\n",
        "%timeit assert game({'id': 1, 'option': 'spock'}, {'id': 2, 'option': 'rock'}) == 'spock vaporizes rock, Player1 won!', 'Expected value is `spock vaporizes rock, Player1 won!`'\n",
        "\n",
        "%timeit assert game({'id': 1, 'option': 'rock'}, {'id': 2, 'option': 'scissors'}) == 'rock crushes scissors, Player1 won!', 'Expected value is `rock crushes scissors, Player1 won!`'"
      ]
    },
    {
      "cell_type": "code",
      "execution_count": 40,
      "metadata": {
        "id": "sF-JDvOj0Ujv"
      },
      "outputs": [
        {
          "name": "stdout",
          "output_type": "stream",
          "text": [
            "933 ns ± 17.8 ns per loop (mean ± std. dev. of 7 runs, 1,000,000 loops each)\n",
            "1.04 µs ± 54.1 ns per loop (mean ± std. dev. of 7 runs, 1,000,000 loops each)\n",
            "1.07 µs ± 35.9 ns per loop (mean ± std. dev. of 7 runs, 1,000,000 loops each)\n",
            "1.23 µs ± 67.1 ns per loop (mean ± std. dev. of 7 runs, 1,000,000 loops each)\n",
            "1.54 µs ± 377 ns per loop (mean ± std. dev. of 7 runs, 1,000,000 loops each)\n",
            "1.42 µs ± 48.9 ns per loop (mean ± std. dev. of 7 runs, 1,000,000 loops each)\n",
            "1.44 µs ± 36.5 ns per loop (mean ± std. dev. of 7 runs, 1,000,000 loops each)\n",
            "1.52 µs ± 37.8 ns per loop (mean ± std. dev. of 7 runs, 1,000,000 loops each)\n",
            "1.6 µs ± 56.7 ns per loop (mean ± std. dev. of 7 runs, 1,000,000 loops each)\n",
            "1.12 µs ± 28.2 ns per loop (mean ± std. dev. of 7 runs, 1,000,000 loops each)\n"
          ]
        }
      ],
      "source": [
        "\n",
        "%timeit assert game({'id': 2, 'option': 'scissors'}, {'id': 1, 'option': 'paper'}) == 'scissors cuts paper, Player2 won!', 'Expected value is `scissors cuts paper, Player2 won!`'\n",
        "\n",
        "%timeit assert game({'id': 2, 'option': 'paper'}, {'id': 1, 'option': 'rock'}) == 'paper covers rock, Player2 won!', 'Expected value is `paper covers rock, Player2 won!`'\n",
        "\n",
        "%timeit assert game({'id': 2, 'option': 'rock'}, {'id': 1, 'option': 'lizard'}) == 'rock crushes lizard, Player2 won!', 'Expected value is `rock crushes lizard, Player2 won!`'\n",
        "\n",
        "%timeit assert game({'id': 2, 'option': 'lizard'}, {'id': 1, 'option': 'spock'}) == 'lizard poison spock, Player2 won!', 'Expected value is `lizard poison spock, Player2 won!`'\n",
        "\n",
        "%timeit assert game({'id': 2, 'option': 'spock'}, {'id': 1, 'option': 'scissors'}) == 'spock smashes scissors, Player2 won!', 'Expected value is `spock smashes scissors, Player2 won!`'\n",
        "\n",
        "%timeit assert game({'id': 2, 'option': 'scissors'}, {'id': 1, 'option': 'lizard'}) == 'scissors decapitate lizard, Player2 won!', 'Expected value is `scissors decapitate lizard, Player2 won!`'\n",
        "\n",
        "%timeit assert game({'id': 2, 'option': 'lizard'}, {'id': 1, 'option': 'paper'}) == 'lizard eats paper, Player2 won!', 'Expected value is `lizard eats paper, Player2 won!`'\n",
        "\n",
        "%timeit assert game({'id': 2, 'option': 'paper'}, {'id': 1, 'option': 'spock'}) == 'paper disproves spock, Player2 won!', 'Expected value is `paper disproves spock, Player2 won!`'\n",
        "\n",
        "%timeit assert game({'id': 2, 'option': 'spock'}, {'id': 1, 'option': 'rock'}) == 'spock vaporizes rock, Player2 won!', 'Expected value is `spock vaporizes rock, Player2 won!`'\n",
        "\n",
        "%timeit assert game({'id': 2, 'option': 'rock'}, {'id': 1, 'option': 'scissors'}) == 'rock crushes scissors, Player2 won!', 'Expected value is `rock crushes scissors, Player2 won!`'"
      ]
    },
    {
      "cell_type": "markdown",
      "metadata": {
        "id": "bWjTtpnHzHA4"
      },
      "source": [
        "## Exercise 4\n",
        "\n",
        "Write the function `mask_array` allows you to directly create a \"masked array\" in which the elements not fulfilling the condition will be rendered/labeled \"invalid\". This is achieved using the mask argument, which contains True/False or values 0/1.\n",
        "\n",
        "* `data` is mandatory\n",
        "* `mask` is mandatory\n",
        "* `mask_value` is optional, default value is `*`\n",
        "* `fill_value` is optional, default value is `-999999`"
      ]
    },
    {
      "cell_type": "code",
      "execution_count": 19,
      "metadata": {
        "id": "EKdxC0M4veA3"
      },
      "outputs": [],
      "source": [
        "def mask_array(data, mask, mask_value='*', fill_value=-999999):\n",
        "    mask_arr = []\n",
        "    for index, value in enumerate(mask):\n",
        "        new_value = None\n",
        "        if not value and index < len(data):\n",
        "            new_value = data[index]\n",
        "        elif value and index < len(data):\n",
        "            new_value = mask_value\n",
        "        else:\n",
        "            new_value = fill_value\n",
        "        mask_arr.append(new_value)\n",
        "    return mask_arr"
      ]
    },
    {
      "cell_type": "code",
      "execution_count": 20,
      "metadata": {
        "id": "BOScL8btvp5k"
      },
      "outputs": [],
      "source": [
        "data = [1, 2, 3, 4, 5, 6, 7, 8]\n",
        "mask = [False, False, False, True, True, True, False, False]\n",
        "\n",
        "expected = [1, 2, 3, '*', '*', '*', 7, 8]\n",
        "ma_arr = mask_array(data, mask)\n",
        "assert expected == ma_arr, f'Expected mask array is {expected}'"
      ]
    },
    {
      "cell_type": "code",
      "execution_count": 21,
      "metadata": {
        "id": "vn87dHDo0wSc"
      },
      "outputs": [],
      "source": [
        "data = [1, 2, 3, 4, 5, 6, 7, 8]\n",
        "mask = [False, False, False, True, True, True, False, False]\n",
        "\n",
        "expected = [1, 2, 3, '*', '*', '*', 7, 8]\n",
        "ma_arr = mask_array(data, mask, mask_value='*')\n",
        "assert expected == ma_arr, f'Expected mask array is {expected}'"
      ]
    },
    {
      "cell_type": "code",
      "execution_count": 22,
      "metadata": {
        "id": "CQEi6TZcwu0D"
      },
      "outputs": [],
      "source": [
        "data = [1, 2, 3, 4, 5, 6, 7, 8]\n",
        "mask=[False, False, False, True, True, True, False, False]\n",
        "\n",
        "expected = [1, 2, 3, '--', '--', '--', 7, 8]\n",
        "ma_arr = mask_array(data, mask, mask_value='--')\n",
        "assert expected == ma_arr, f'Expected mask array is {expected}'"
      ]
    },
    {
      "cell_type": "code",
      "execution_count": 24,
      "metadata": {
        "id": "Rb0Lj9sUxcu9"
      },
      "outputs": [],
      "source": [
        "data = [1, 2, 3, 4, 5, 6, 7, 8]\n",
        "mask=[False, False, False, True, True, True, False, False, True, True]\n",
        "\n",
        "expected = [1, 2, 3, '--', '--', '--', 7, 8, 9999999, 9999999]\n",
        "ma_arr = mask_array(data, mask, mask_value='--', fill_value=9999999)\n",
        "assert expected == ma_arr, f'Expected mask array is {expected}'"
      ]
    },
    {
      "cell_type": "code",
      "execution_count": 26,
      "metadata": {
        "id": "caINbSDJyXnY"
      },
      "outputs": [],
      "source": [
        "data = [1, 2, 3, 4, 5, 6, 7, 8]\n",
        "mask=[False, False, False, True, True, True, False, False, True, True]\n",
        "\n",
        "expected = [1, 2, 3, '--', '--', '--', 7, 8, -999999, -999999]\n",
        "ma_arr = mask_array(data, mask, mask_value='--')\n",
        "assert expected == ma_arr, f'Expected mask array is {expected}'"
      ]
    },
    {
      "cell_type": "code",
      "execution_count": 27,
      "metadata": {
        "id": "sg_sRK1Ny2cu"
      },
      "outputs": [],
      "source": [
        "data = [1, 2, 3, 4, 5, 6, 7, 8]\n",
        "mask = [0, 0, 0, 1, 1, 1, 0, 0]\n",
        "\n",
        "expected = [1, 2, 3, '--', '--', '--', 7, 8]\n",
        "ma_arr = mask_array(data, mask, mask_value='--')\n",
        "assert expected == ma_arr, f'Expected mask array is {expected}'"
      ]
    },
    {
      "cell_type": "markdown",
      "metadata": {
        "id": "0y9XinpM1Jbd"
      },
      "source": [
        "## Exercise 4\n",
        "\n",
        "The function `masked_less()` will mask/filter the values less than a number."
      ]
    },
    {
      "cell_type": "code",
      "execution_count": 28,
      "metadata": {
        "id": "4HBijBB911A3"
      },
      "outputs": [],
      "source": [
        "def masked_less(arr, number):\n",
        "    masked_array = [True if num < number else False for num in arr]\n",
        "    return mask_array(arr, masked_array, '--')"
      ]
    },
    {
      "cell_type": "code",
      "execution_count": 29,
      "metadata": {
        "id": "MOOwugVt1QQJ"
      },
      "outputs": [],
      "source": [
        "arr = [1, 2, 3, 4, 5, 6, 7, 8]\n",
        "ma_arr = masked_less(arr, 4)\n",
        "\n",
        "assert len(ma_arr) == len(arr), f\"Expected len is {len(arr)}\"\n",
        "\n",
        "expected_data = ['--', '--', '--', 4, 5, 6, 7, 8]\n",
        "assert ma_arr == expected_data, f\"Expected list is {expected_data}\"\n",
        "\n",
        "expected_sum = 30\n",
        "assert sum([ e for e in ma_arr if type(e) is int]) == expected_sum, f'Expected sum is {expected_sum}'"
      ]
    },
    {
      "cell_type": "markdown",
      "metadata": {
        "id": "QeZKP-STu-mw"
      },
      "source": [
        "## Exercise 5\n",
        "\n",
        "As a code reviewer, what is wrong in this code snippet?"
      ]
    },
    {
      "cell_type": "code",
      "execution_count": null,
      "metadata": {
        "id": "dOL_F6m5u8Vb"
      },
      "outputs": [],
      "source": [
        "list = ['alfa', 'bravo', 'charlie', 'delta', 'echo']\n",
        "\n",
        "print(list[10:])\n",
        "\n",
        "# First of all, it is really bad to use a reserved keyword as the name of a variable, this will be problematic later.\n",
        "# Second, this list doesn't have 10 values, so the print will show an empty list"
      ]
    },
    {
      "cell_type": "markdown",
      "metadata": {
        "id": "EBD9mgAJvHt2"
      },
      "source": [
        "## Exercise 6\n",
        "\n",
        "What will be the output of the code below?"
      ]
    },
    {
      "cell_type": "code",
      "execution_count": null,
      "metadata": {
        "id": "_QnEGpQVvFLk"
      },
      "outputs": [],
      "source": [
        "def multipliers():\n",
        "  return [lambda x : i * x for i in range(4)]\n",
        "    \n",
        "print([m(2) for m in multipliers()])\n",
        "# The output will be [6, 6, 6, 6] because the function multiplier is generating a list of functions. \n",
        "# Each function is a lambda (or anonomous) function of the form x: i*x which means that each of them \n",
        "# will multiply the stored value i by the parameter x\n",
        "# We could think that the output will be [0, 2, 4, 6] since the list comprehension is iterating in a range(4)\n",
        "# However we are dealing with a scope problem here, bc what is really happening is that the last value of\n",
        "# that range is being stored in each function. This happens bc anonimous functions don't have its own\n",
        "# scope so they try to obtain their values from the parent scope"
      ]
    },
    {
      "cell_type": "markdown",
      "metadata": {
        "id": "i8RFaklQvikr"
      },
      "source": [
        "## Exercise 7\n",
        "\n",
        "Given a list of **N** numbers, use a single list comprehension to produce a new list that only contains those values that are:\n",
        "\n",
        "(a) even numbers, and\n",
        "\n",
        "(b) from elements in the original list that had even indices\n",
        "\n",
        "For example, if `list[2]` contains a value that is even, that value should be included in the new list, since it is also at an even index (i.e., 2) in the original list. \n",
        "\n",
        "However, if `list[3]` contains an even number, that number should not be included in the new list since it is at an odd index (i.e., 3) in the original list."
      ]
    },
    {
      "cell_type": "code",
      "execution_count": 33,
      "metadata": {
        "id": "nTr7rF8Zvgv9"
      },
      "outputs": [],
      "source": [
        "numbers = [ 1 , 3 , 5 , 8 , 10 , 13 , 18 , 36 , 78 ]\n",
        "expected_result = [10, 18, 78]\n",
        "\n",
        "def even_list(numbers):\n",
        "    return [n for n in numbers[::2] if n%2 == 0]\n",
        "\n",
        "assert expected_result == even_list(numbers)"
      ]
    },
    {
      "cell_type": "markdown",
      "metadata": {
        "id": "fu7vRtiB02v2"
      },
      "source": [
        "## Exercise 8\n",
        "\n",
        "Caesar Cipher\n",
        "\n",
        "A Caesar cipher is a simple substitution cipher in which each letter of the plain text is substituted with a letter found by moving n places down the alphabet. For example, assume the input plain text is the following:\n",
        "\n",
        "`abcd xyz`\n",
        "\n",
        "\n",
        "If the shift value, n, is 4, then the encrypted text would be the following:\n",
        "\n",
        "`efgh bcd`\n",
        "\n",
        "You are to write a function that accepts two arguments, a plain-text message and a number of letters to shift in the cipher. \n",
        "\n",
        "The function will return an encrypted string with all letters transformed and all punctuation and whitespace remaining unchanged.\n",
        "\n",
        "Note: You can assume the plain text is all lowercase ASCII except for whitespace and punctuation."
      ]
    },
    {
      "cell_type": "code",
      "execution_count": 44,
      "metadata": {},
      "outputs": [],
      "source": [
        "def caesar_cipher(txt, number):\n",
        "    new_s = ''\n",
        "    for t in txt:\n",
        "        asc = ord(t)\n",
        "        if asc >= 32 and asc <= 47:\n",
        "            new_s += t\n",
        "        else:\n",
        "            asc += number\n",
        "            if asc > 122:\n",
        "                asc = asc%122 + 96\n",
        "            new_s += chr(asc)\n",
        "    return new_s"
      ]
    },
    {
      "cell_type": "code",
      "execution_count": 47,
      "metadata": {},
      "outputs": [],
      "source": [
        "assert caesar_cipher('abcd xyz', 4) == 'efgh bcd'"
      ]
    },
    {
      "cell_type": "code",
      "execution_count": 38,
      "metadata": {},
      "outputs": [
        {
          "data": {
            "text/plain": [
              "'10/14/22, 5:53:17 PM'"
            ]
          },
          "execution_count": 38,
          "metadata": {},
          "output_type": "execute_result"
        }
      ],
      "source": [
        "from datetime import datetime, timedelta, time\n",
        "DATE_FORMAT = '%m/%d/%y, %I:%M:%S %p'\n",
        "DATE_FORMAT1 = '%m/%d/%y, %#I:%M:%S %p'\n",
        "TIME_FORMAT = '%Mm %Ss'\n",
        "j=datetime.strptime('10/14/22, 5:53:17 PM', DATE_FORMAT)\n",
        "l=datetime.strptime('10/14/22, 6:38:21 PM', DATE_FORMAT)\n",
        "j = datetime.strftime(j, DATE_FORMAT1)\n",
        "j"
      ]
    },
    {
      "cell_type": "code",
      "execution_count": 64,
      "metadata": {},
      "outputs": [
        {
          "data": {
            "text/plain": [
              "'ab'"
            ]
          },
          "execution_count": 64,
          "metadata": {},
          "output_type": "execute_result"
        }
      ],
      "source": [
        "lol = {\n",
        "    'Full Name': 'Katerin Apaza Romero',\n",
        "    'Join Time': '10/14/22, 6:38:21 PM',\n",
        "    'Leave Time': '10/14/22, 7:37:08 PM',\n",
        "    'Duration': {\n",
        "        'hours': 2,\n",
        "        'minutes': 4,\n",
        "        'seconds': 10\n",
        "    },\n",
        "    \"Email\": 'Katerin.Apaza@fundacion-jala.org',\n",
        "    'Role': 'Presenter',\n",
        "    'Participant ID (UPN)': 'Katerin.Apaza@fundacion-jala.org'\n",
        "}\n",
        "d =  {\n",
        "            'hours': 2,\n",
        "            'minutes': 4,\n",
        "            'seconds': 10\n",
        "        }\n",
        "\n",
        "str(\"\".join(['a', 'b']))\n",
        "list(d.values())\n"
      ]
    },
    {
      "cell_type": "code",
      "execution_count": 31,
      "metadata": {},
      "outputs": [
        {
          "name": "stdout",
          "output_type": "stream",
          "text": [
            "a\n"
          ]
        }
      ],
      "source": [
        "l = datetime(9999, 1, 1)\n",
        "j = datetime(2022, 10, 14)\n",
        "if j < l:\n",
        "    print('a')"
      ]
    },
    {
      "cell_type": "code",
      "execution_count": 53,
      "metadata": {},
      "outputs": [
        {
          "data": {
            "text/plain": [
              "0"
            ]
          },
          "execution_count": 53,
          "metadata": {},
          "output_type": "execute_result"
        }
      ],
      "source": [
        "value = timedelta(seconds=64860)\n",
        "value = (datetime.min + value).time()\n",
        "TIME_TO_STR = '%#Ih %Mm %Ss'\n",
        "value.second\n"
      ]
    }
  ],
  "metadata": {
    "colab": {
      "provenance": []
    },
    "kernelspec": {
      "display_name": "Python 3.10.8 64-bit",
      "language": "python",
      "name": "python3"
    },
    "language_info": {
      "codemirror_mode": {
        "name": "ipython",
        "version": 3
      },
      "file_extension": ".py",
      "mimetype": "text/x-python",
      "name": "python",
      "nbconvert_exporter": "python",
      "pygments_lexer": "ipython3",
      "version": "3.10.8"
    },
    "vscode": {
      "interpreter": {
        "hash": "f70c1e2fb12efbb75f4672ba1915fe938ef6bbf49e61743293f7740cd33511b7"
      }
    }
  },
  "nbformat": 4,
  "nbformat_minor": 0
}
