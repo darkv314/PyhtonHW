{
 "cells": [
  {
   "cell_type": "markdown",
   "metadata": {},
   "source": [
    "- Abstraction\n",
    "- Encapsulation\n",
    "  - \"Association\" between classes\n",
    "    - Agreggation\n",
    "    - Composition\n",
    "\n",
    "\n",
    "NEXT\n",
    "- Inheritance &\n",
    "- Polymorphism"
   ]
  },
  {
   "cell_type": "markdown",
   "metadata": {},
   "source": [
    "Associations - relationship between 2 classes\n",
    "\n",
    "A Car has 1 Engine \n",
    "\n",
    "A book has 1...* Page (s)"
   ]
  },
  {
   "cell_type": "markdown",
   "metadata": {},
   "source": [
    "**Composition** is the idea of an object could be made up of, or composed of, other objects. \n",
    "\n",
    "The **composed objects** are intrinsic to the **main object**\n"
   ]
  },
  {
   "cell_type": "code",
   "execution_count": 22,
   "metadata": {},
   "outputs": [],
   "source": [
    "class Page:\n",
    "    pass\n",
    "\n",
    "\n",
    "# class \"Book\" is responsible of instantiating and object of class \"Page\"\n",
    "# if I delete object of class Book, the istance of class Page does not exist anymore\n",
    "\n",
    "\n",
    "# THE CONTAINER class controls the lifecycle of the objects that are defined in ctr and stored as \"attributes\"\n",
    "class Book:\n",
    "\n",
    "    # 1 book has 1 Page\n",
    "    def __init__(self):\n",
    "        self.page = Page()\n",
    "\n"
   ]
  },
  {
   "cell_type": "code",
   "execution_count": null,
   "metadata": {},
   "outputs": [],
   "source": [
    "class Book:\n",
    "    # 1 book has 0 or more pages\n",
    "    def __init__(self):\n",
    "        self.pages = []\n",
    "\n",
    "    def add_page(text):\n",
    "        self.pages.append(Page(text))"
   ]
  },
  {
   "cell_type": "code",
   "execution_count": null,
   "metadata": {},
   "outputs": [],
   "source": [
    "b = Book()"
   ]
  },
  {
   "cell_type": "markdown",
   "metadata": {},
   "source": [
    "**Aggregation** states that an object can bring together separate objects that has their own lifetime\n",
    "\n"
   ]
  },
  {
   "cell_type": "code",
   "execution_count": 23,
   "metadata": {},
   "outputs": [],
   "source": [
    "class Engine:\n",
    "    pass\n",
    "\n",
    "\n",
    "class Car:\n",
    "    def __init__(self, engine):\n",
    "        self.engine = engine # A car has an Engine"
   ]
  },
  {
   "cell_type": "code",
   "execution_count": 25,
   "metadata": {},
   "outputs": [
    {
     "name": "stdout",
     "output_type": "stream",
     "text": [
      "None\n",
      "<__main__.Engine object at 0x104d3f8e0>\n"
     ]
    }
   ],
   "source": [
    "eng1 = Engine()\n",
    "\n",
    "car1 = Car(eng1)\n",
    "car1 = None\n",
    "\n",
    "print(car1)\n",
    "\n",
    "print(eng1)"
   ]
  },
  {
   "cell_type": "markdown",
   "metadata": {},
   "source": [
    "![image.png](images/3.%20todo.png)"
   ]
  },
  {
   "cell_type": "markdown",
   "metadata": {},
   "source": [
    "# TODO\n",
    "\n",
    "# Employee has an instance of \"Address\" class/type\n",
    "**Composition** because Employee controls Address lifetime\n",
    "\n",
    "\n",
    "** Let's say an Employee has 1 valid address\n",
    "\n",
    "ctr (id, name, street, street2, city, state, zipcode)\n",
    "    __address = Address(street, street2, city, state, zipcode)\n",
    "    \n",
    "\n",
    "Employee\n",
    "- can be a mutable object, to do so write A Setter / Getter like methods. \n",
    "  - In Python everything: methods & attributes are public, **they are public in read and write mode**\n",
    "- can be inmutable \n",
    "    - DO NOT implement any method updating your attribute\n",
    "    - Also, In Python you need to \"inform\" the attrib is like \"private\" by prefixing it with __ (double undercore)\n"
   ]
  },
  {
   "cell_type": "markdown",
   "metadata": {},
   "source": [
    "![image.png](images/1.%20employee-address.webp)"
   ]
  },
  {
   "cell_type": "code",
   "execution_count": null,
   "metadata": {},
   "outputs": [],
   "source": [
    "# TODO"
   ]
  },
  {
   "cell_type": "markdown",
   "metadata": {},
   "source": [
    "Describe the code below"
   ]
  },
  {
   "cell_type": "code",
   "execution_count": 12,
   "metadata": {},
   "outputs": [],
   "source": [
    "# A student (an instance/object of Student class) has 1 name and 0...* classes\n",
    "# The ctr (constructor) does not instantiate any object\n",
    "\n",
    "\n",
    "class Student:\n",
    "\n",
    "    def __init__(self, name):\n",
    "        self.name = name\n",
    "        self.classes = []\n",
    "\n",
    "    # Method, allows student to be \"related\" with course\n",
    "    def enroll(self, course_version):\n",
    "        # Append a \"course_version\" to the Student's list of classes\n",
    "        self.classes.append(course_version) \n",
    "\n",
    "        # The object \"course_version\" has a method named \"add_student\" because I am using the point operator\n",
    "        # Method \"add_student\" receives an object of type (class) Student because I am passing \"self\"\n",
    "        course_version.add_student(self)\n"
   ]
  },
  {
   "cell_type": "code",
   "execution_count": 20,
   "metadata": {},
   "outputs": [
    {
     "data": {
      "text/plain": [
       "5"
      ]
     },
     "execution_count": 20,
     "metadata": {},
     "output_type": "execute_result"
    }
   ],
   "source": [
    "a = [1, 3, 5]\n",
    "a[-1]"
   ]
  },
  {
   "cell_type": "code",
   "execution_count": 21,
   "metadata": {},
   "outputs": [
    {
     "data": {
      "text/plain": [
       "5"
      ]
     },
     "execution_count": 21,
     "metadata": {},
     "output_type": "execute_result"
    }
   ],
   "source": [
    "a = [1, 3, 5]\n",
    "a[len(a) - 1]"
   ]
  },
  {
   "cell_type": "code",
   "execution_count": 17,
   "metadata": {},
   "outputs": [],
   "source": [
    "class Course:\n",
    "    \n",
    "    # This method will be called when we reference ctr of class Course\n",
    "    # __init__ gets called when we instantiate the object --> when we call the class ctr -> Course(....,...,...)\n",
    "    # class Course has 3 attributes: description, code, course_version\n",
    "    # An object of class Course has 1 description, 1 code, 0..* values in course_versions\n",
    "    def __init__(self, description, code):\n",
    "        self.description = description\n",
    "        self.code = code\n",
    "        self.course_versions = []\n",
    "\n",
    "    # This is a method (because it has \"self\") that receives two arguments: month, year\n",
    "    # Every \"object\" can call (invoke this method using) . (point operator)\n",
    "    # it returns the last element of this attribute \"course_versions\"\n",
    "    # ANY_LIST[-1] -> gets last element of list\n",
    "\n",
    "    # CourseVersion(self, month, year) -> expressionn that calls CourseVersion contructor to get a new object/instance of class CourseVersion\n",
    "    # CourseVersion(self, month, year) -> I am passing this instance of \"Curse\" to the CourseVersion ctr\n",
    "    # An instance of CourseVersion class is added to \"course_versions\" list\n",
    "    def add_version(self, month, year):\n",
    "        self.course_versions.append(CourseVersion(self, month, year))\n",
    "        return self.course_versions[-1]"
   ]
  },
  {
   "cell_type": "code",
   "execution_count": 18,
   "metadata": {},
   "outputs": [],
   "source": [
    "class CourseVersion:\n",
    "    \n",
    "    # ctr, receives/expects 3 values identified by course, month, year\n",
    "    # __init__ gets called when we invoke ctr CourseVersion(........)\n",
    "    def __init__(self, course, month, year):\n",
    "        self.course = course\n",
    "        self.month = month\n",
    "        self.year = year\n",
    "        self.students = []\n",
    "\n",
    "    \n",
    "    # student will hold some value \n",
    "    # self.students -> This is an attribute\n",
    "    # This method does not return any value, because it does not have a return statement\n",
    "    def add_student(self, student):\n",
    "        self.students.append(student)"
   ]
  },
  {
   "cell_type": "code",
   "execution_count": 19,
   "metadata": {},
   "outputs": [],
   "source": [
    "course = Course(\"P 1000\", \"P1000\")\n",
    "version = course.add_version(\"september\", 2022)\n",
    "\n",
    "john_doe = Student(\"John Doe\")\n",
    "john_doe.enroll(version)"
   ]
  }
 ],
 "metadata": {
  "kernelspec": {
   "display_name": "Python 3.10.7 64-bit",
   "language": "python",
   "name": "python3"
  },
  "language_info": {
   "codemirror_mode": {
    "name": "ipython",
    "version": 3
   },
   "file_extension": ".py",
   "mimetype": "text/x-python",
   "name": "python",
   "nbconvert_exporter": "python",
   "pygments_lexer": "ipython3",
   "version": "3.10.7"
  },
  "orig_nbformat": 4,
  "vscode": {
   "interpreter": {
    "hash": "aee8b7b246df8f9039afb4144a1f6fd8d2ca17a180786b69acc140d282b71a49"
   }
  }
 },
 "nbformat": 4,
 "nbformat_minor": 2
}
