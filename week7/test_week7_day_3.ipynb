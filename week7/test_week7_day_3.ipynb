{
 "cells": [
  {
   "cell_type": "markdown",
   "metadata": {},
   "source": [
    "outside of the class:\n",
    "- objects of this class\n",
    "- child or derived or sub classes\n",
    "\n",
    "access to members\n",
    "- read access (get/read)\n",
    "- write access (modify/update/delete)\n",
    "\n",
    "\n",
    "3 access levels to **class members**\n",
    "- private, this member is known inside the class, outside of the class there is no access to private members\n",
    "- public, this member is visible inside this class and outside of the class for read/write\n",
    "- protected, this member is visible inside this class and only in the sub-clasess; the instances of this class don't have access to protected members\n",
    "\n",
    "Python\n",
    "\n",
    "by default any member (attributes and methods) is public\n",
    "but\n",
    "\n",
    " (double underscore __) members are private\n",
    " \n",
    " (single underscore _) members are protected"
   ]
  },
  {
   "cell_type": "markdown",
   "metadata": {},
   "source": [
    "Student class"
   ]
  },
  {
   "cell_type": "markdown",
   "metadata": {},
   "source": [
    "v1 - explain"
   ]
  },
  {
   "cell_type": "code",
   "execution_count": 42,
   "metadata": {},
   "outputs": [],
   "source": [
    "class Student:\n",
    "    def __init__(self, name, lastname):\n",
    "        self.name = name\n",
    "        self.lastname = lastname"
   ]
  },
  {
   "cell_type": "code",
   "execution_count": 43,
   "metadata": {},
   "outputs": [
    {
     "name": "stdout",
     "output_type": "stream",
     "text": [
      "A\n"
     ]
    }
   ],
   "source": [
    "student = Student('A', 'B')\n",
    "print(student.name)"
   ]
  },
  {
   "cell_type": "markdown",
   "metadata": {},
   "source": [
    "v2 - explain"
   ]
  },
  {
   "cell_type": "code",
   "execution_count": 68,
   "metadata": {},
   "outputs": [],
   "source": [
    "class StudentA:\n",
    "\n",
    "    def __init__(self, name, lastname):\n",
    "        self.__name = name\n",
    "        self.__lastname = lastname\n",
    "\n",
    "    \n",
    "    def get_name(self):\n",
    "        return self.__name\n",
    "\n",
    "\n",
    "    def set_name(self, name):\n",
    "        self.__name = name"
   ]
  },
  {
   "cell_type": "code",
   "execution_count": 61,
   "metadata": {},
   "outputs": [
    {
     "ename": "AttributeError",
     "evalue": "'StudentA' object has no attribute '__name'",
     "output_type": "error",
     "traceback": [
      "\u001b[0;31m---------------------------------------------------------------------------\u001b[0m",
      "\u001b[0;31mAttributeError\u001b[0m                            Traceback (most recent call last)",
      "Cell \u001b[0;32mIn [61], line 3\u001b[0m\n\u001b[1;32m      1\u001b[0m student \u001b[39m=\u001b[39m StudentA(\u001b[39m'\u001b[39m\u001b[39mA\u001b[39m\u001b[39m'\u001b[39m, \u001b[39m'\u001b[39m\u001b[39mB\u001b[39m\u001b[39m'\u001b[39m)\n\u001b[1;32m      2\u001b[0m \u001b[39m# print('student.__name', student.__name)\u001b[39;00m\n\u001b[0;32m----> 3\u001b[0m \u001b[39mprint\u001b[39m(\u001b[39m'\u001b[39m\u001b[39mstudent.__name\u001b[39m\u001b[39m'\u001b[39m, student\u001b[39m.\u001b[39;49m__name)\n",
      "\u001b[0;31mAttributeError\u001b[0m: 'StudentA' object has no attribute '__name'"
     ]
    }
   ],
   "source": [
    "student = StudentA('A', 'B')\n",
    "# print('student.__name', student.__name)\n",
    "print('student.__name', student.__name)"
   ]
  },
  {
   "cell_type": "code",
   "execution_count": 62,
   "metadata": {},
   "outputs": [
    {
     "data": {
      "text/plain": [
       "['_StudentA__lastname',\n",
       " '_StudentA__name',\n",
       " '__class__',\n",
       " '__delattr__',\n",
       " '__dict__',\n",
       " '__dir__',\n",
       " '__doc__',\n",
       " '__eq__',\n",
       " '__format__',\n",
       " '__ge__',\n",
       " '__getattribute__',\n",
       " '__gt__',\n",
       " '__hash__',\n",
       " '__init__',\n",
       " '__init_subclass__',\n",
       " '__le__',\n",
       " '__lt__',\n",
       " '__module__',\n",
       " '__ne__',\n",
       " '__new__',\n",
       " '__reduce__',\n",
       " '__reduce_ex__',\n",
       " '__repr__',\n",
       " '__setattr__',\n",
       " '__sizeof__',\n",
       " '__str__',\n",
       " '__subclasshook__',\n",
       " '__weakref__',\n",
       " 'get_name']"
      ]
     },
     "execution_count": 62,
     "metadata": {},
     "output_type": "execute_result"
    }
   ],
   "source": [
    "student = StudentA('A', 'B')\n",
    "dir(student)"
   ]
  },
  {
   "cell_type": "code",
   "execution_count": 63,
   "metadata": {},
   "outputs": [
    {
     "data": {
      "text/plain": [
       "['_StudentA__lastname',\n",
       " '_StudentA__name',\n",
       " '__class__',\n",
       " '__delattr__',\n",
       " '__dict__',\n",
       " '__dir__',\n",
       " '__doc__',\n",
       " '__eq__',\n",
       " '__format__',\n",
       " '__ge__',\n",
       " '__getattribute__',\n",
       " '__gt__',\n",
       " '__hash__',\n",
       " '__init__',\n",
       " '__init_subclass__',\n",
       " '__le__',\n",
       " '__lt__',\n",
       " '__module__',\n",
       " '__name',\n",
       " '__ne__',\n",
       " '__new__',\n",
       " '__reduce__',\n",
       " '__reduce_ex__',\n",
       " '__repr__',\n",
       " '__setattr__',\n",
       " '__sizeof__',\n",
       " '__str__',\n",
       " '__subclasshook__',\n",
       " '__weakref__',\n",
       " 'get_name']"
      ]
     },
     "execution_count": 63,
     "metadata": {},
     "output_type": "execute_result"
    }
   ],
   "source": [
    "\n",
    "student.__name = 'Maria'\n",
    "\n",
    "dir(student)"
   ]
  },
  {
   "cell_type": "code",
   "execution_count": 66,
   "metadata": {},
   "outputs": [
    {
     "data": {
      "text/plain": [
       "['_StudentA__lastname',\n",
       " '_StudentA__name',\n",
       " '__class__',\n",
       " '__delattr__',\n",
       " '__dict__',\n",
       " '__dir__',\n",
       " '__doc__',\n",
       " '__eq__',\n",
       " '__format__',\n",
       " '__ge__',\n",
       " '__getattribute__',\n",
       " '__gt__',\n",
       " '__hash__',\n",
       " '__init__',\n",
       " '__init_subclass__',\n",
       " '__le__',\n",
       " '__lt__',\n",
       " '__module__',\n",
       " '__name',\n",
       " '__name1',\n",
       " '__ne__',\n",
       " '__new__',\n",
       " '__reduce__',\n",
       " '__reduce_ex__',\n",
       " '__repr__',\n",
       " '__setattr__',\n",
       " '__sizeof__',\n",
       " '__str__',\n",
       " '__subclasshook__',\n",
       " '__weakref__',\n",
       " 'get_name']"
      ]
     },
     "execution_count": 66,
     "metadata": {},
     "output_type": "execute_result"
    }
   ],
   "source": [
    "student.__name1 = 'Mariaxxx'\n",
    "\n",
    "dir(student)"
   ]
  },
  {
   "cell_type": "code",
   "execution_count": 64,
   "metadata": {},
   "outputs": [
    {
     "data": {
      "text/plain": [
       "'A'"
      ]
     },
     "execution_count": 64,
     "metadata": {},
     "output_type": "execute_result"
    }
   ],
   "source": [
    "student.get_name()"
   ]
  },
  {
   "cell_type": "code",
   "execution_count": 70,
   "metadata": {},
   "outputs": [
    {
     "data": {
      "text/plain": [
       "['_StudentA__lastname',\n",
       " '_StudentA__name',\n",
       " '__class__',\n",
       " '__delattr__',\n",
       " '__dict__',\n",
       " '__dir__',\n",
       " '__doc__',\n",
       " '__eq__',\n",
       " '__format__',\n",
       " '__ge__',\n",
       " '__getattribute__',\n",
       " '__gt__',\n",
       " '__hash__',\n",
       " '__init__',\n",
       " '__init_subclass__',\n",
       " '__le__',\n",
       " '__lt__',\n",
       " '__module__',\n",
       " '__ne__',\n",
       " '__new__',\n",
       " '__reduce__',\n",
       " '__reduce_ex__',\n",
       " '__repr__',\n",
       " '__setattr__',\n",
       " '__sizeof__',\n",
       " '__str__',\n",
       " '__subclasshook__',\n",
       " '__weakref__',\n",
       " 'get_name',\n",
       " 'set_name']"
      ]
     },
     "execution_count": 70,
     "metadata": {},
     "output_type": "execute_result"
    }
   ],
   "source": [
    "s1 = StudentA('B', 'B')\n",
    "dir(s1)"
   ]
  },
  {
   "cell_type": "code",
   "execution_count": 71,
   "metadata": {},
   "outputs": [],
   "source": [
    "s1.set_name('xxx')\n",
    "assert s1.get_name() == 'xxx'"
   ]
  },
  {
   "cell_type": "code",
   "execution_count": null,
   "metadata": {},
   "outputs": [],
   "source": [
    "print('student.__name', student.__name)\n"
   ]
  },
  {
   "cell_type": "markdown",
   "metadata": {},
   "source": [
    "You want to track employees in an organization. \n",
    " \n",
    "You need to store some basic information about each employee, such as their name, age, position, and the year they started working.\n",
    "\n",
    "Write class and create instances to make this possible, some of the sample data we have is\n",
    "\n",
    "```\n",
    "kirk = [\"James Kirk\", 34, \"Captain\", 2265]\n",
    "spock = [\"Spock\", 35, \"Science Officer\", 2254]\n",
    "mccoy = [\"Leonard McCoy\", \"Chief Medical Officer\", 2266]```"
   ]
  },
  {
   "cell_type": "code",
   "execution_count": 82,
   "metadata": {},
   "outputs": [],
   "source": [
    "class Employee:\n",
    "    # pass\n",
    "    def __init__(self, name, age, position, year):\n",
    "        self.__name = name\n",
    "        self.__age = age\n",
    "        self.__position = position\n",
    "        self.__year = year\n",
    "\n",
    "    \n",
    "    def __str__(self):\n",
    "        return f\"{self.__name}, is {self.__age} years old, started working on {self.__year } as {self.__position}\"\n",
    "\n",
    "    "
   ]
  },
  {
   "cell_type": "code",
   "execution_count": 73,
   "metadata": {},
   "outputs": [
    {
     "data": {
      "text/plain": [
       "<__main__.Employee at 0x111cc73a0>"
      ]
     },
     "execution_count": 73,
     "metadata": {},
     "output_type": "execute_result"
    }
   ],
   "source": [
    "Employee()"
   ]
  },
  {
   "cell_type": "code",
   "execution_count": 83,
   "metadata": {},
   "outputs": [
    {
     "ename": "AttributeError",
     "evalue": "'Employee' object has no attribute 'get_name'",
     "output_type": "error",
     "traceback": [
      "\u001b[0;31m---------------------------------------------------------------------------\u001b[0m",
      "\u001b[0;31mAttributeError\u001b[0m                            Traceback (most recent call last)",
      "Cell \u001b[0;32mIn [83], line 6\u001b[0m\n\u001b[1;32m      4\u001b[0m text \u001b[39m=\u001b[39m \u001b[39mstr\u001b[39m(kirk)\n\u001b[1;32m      5\u001b[0m \u001b[39massert\u001b[39;00m text \u001b[39m==\u001b[39m \u001b[39m'\u001b[39m\u001b[39mJames Kirk, is 34 years old, started working on 2265 as Captain\u001b[39m\u001b[39m'\u001b[39m\n\u001b[0;32m----> 6\u001b[0m \u001b[39massert\u001b[39;00m kirk\u001b[39m.\u001b[39;49mget_name() \u001b[39m==\u001b[39m \u001b[39m'\u001b[39m\u001b[39mJames Kirk\u001b[39m\u001b[39m'\u001b[39m\n\u001b[1;32m      7\u001b[0m \u001b[39massert\u001b[39;00m kirk\u001b[39m.\u001b[39mget_age() \u001b[39m==\u001b[39m \u001b[39m34\u001b[39m\n\u001b[1;32m      8\u001b[0m \u001b[39massert\u001b[39;00m kirk\u001b[39m.\u001b[39mget_position() \u001b[39m==\u001b[39m \u001b[39m'\u001b[39m\u001b[39mCaptain\u001b[39m\u001b[39m'\u001b[39m\n",
      "\u001b[0;31mAttributeError\u001b[0m: 'Employee' object has no attribute 'get_name'"
     ]
    }
   ],
   "source": [
    "kirk = Employee('James Kirk', 34, 'Captain', 2265)\n",
    "assert isinstance(kirk, Employee)\n",
    "\n",
    "text = str(kirk)\n",
    "assert text == 'James Kirk, is 34 years old, started working on 2265 as Captain'\n",
    "assert kirk.get_name() == 'James Kirk'\n",
    "assert kirk.get_age() == 34\n",
    "assert kirk.get_position() == 'Captain'\n",
    "assert kirk.get_started_working_year() == 2265"
   ]
  },
  {
   "cell_type": "code",
   "execution_count": null,
   "metadata": {},
   "outputs": [],
   "source": [
    "spock = Employee(\"Spock\", 35, \"Science Officer\", 2254)\n",
    "assert isinstance(spock, Employee)\n",
    "\n",
    "text = str(spock)\n",
    "assert spock == 'Spock, is 35 years old, started working on 2254 as Science Officer'\n",
    "assert spock.get_name() == 'Spock'\n",
    "assert spock.get_age() == 35\n",
    "assert spock.get_position() == 'Science Officer'\n",
    "assert spock.get_started_working_year() == 2254"
   ]
  },
  {
   "cell_type": "code",
   "execution_count": null,
   "metadata": {},
   "outputs": [],
   "source": [
    "mccoy = Employee(\"Leonard McCoy\", \"Chief Medical Officer\", 2266)\n",
    "assert isinstance(mccoy, Employee)\n",
    "\n",
    "text = str(mccoy)\n",
    "assert text == 'Leonard McCoy, Unknown age, started working on 2266 as Chief Medical Officer'\n",
    "assert mccoy.get_name() == 'Leonard McCoy'\n",
    "assert mccoy.get_age() is None\n",
    "assert mccoy.get_position() == 'Chief Medical Officer'\n",
    "assert mccoy.get_started_working_year() == 2266"
   ]
  },
  {
   "cell_type": "markdown",
   "metadata": {},
   "source": [
    "HR needs to process payroll for the company's employees, they requested a **calculate_salary** interface (access point to your solution, THIS IS NOT UI, THIS IS NOT REST resource...THIS IS A public method) that returns the weekly salary for any employee.\n",
    "\n",
    "- Administrative workers have a fixed salary which means every week they are paid the same amount\n",
    "- Manufactoring workers are paid by the hour\n",
    "- Sales associates are paid through a fixed salary plus a commission based on their sales\n",
    "\n",
    "For example: \n",
    "\n",
    "- John Doe is an Administrative worker, his check amount is $1500\n",
    "- Jane Doe is a Manufactoring worker, she works 40 hours a week, she gets paid $15 per hour and her check amount is $600\n",
    "- Foo is a Sales associate, his fixed salary is $1000 and this week he made $250 as commision and his check amount is $1250"
   ]
  },
  {
   "cell_type": "code",
   "execution_count": 7,
   "metadata": {},
   "outputs": [],
   "source": [
    "class Employee:\n",
    "    # ctr\n",
    "    def __init__(self, name, role, salary):\n",
    "        self.__name = name\n",
    "        self.__role = role\n",
    "        self.__salary = salary\n",
    "\n",
    "    def get_name(self):\n",
    "        return self.__name\n",
    "    \n",
    "    def get_role(self):\n",
    "        return self.__role\n",
    "\n",
    "    def set_role(self, role):\n",
    "        self.__role = role\n",
    "\n",
    "    def get_salary(self):\n",
    "        return self.__salary\n",
    "\n",
    "    def set_salary(self, salary):\n",
    "        self.__salary = salary\n",
    "\n",
    "    def calculate_salary(employee):\n",
    "        pass"
   ]
  },
  {
   "cell_type": "code",
   "execution_count": 8,
   "metadata": {},
   "outputs": [],
   "source": [
    "class Administrative(Employee):\n",
    "    def __init__(self, name, salary, role='Administrative'):\n",
    "        super().__init__(name, role, salary)\n",
    "    \n",
    "    def calculate_salary(employee):\n",
    "        return employee.get_salary()"
   ]
  },
  {
   "cell_type": "code",
   "execution_count": 10,
   "metadata": {},
   "outputs": [],
   "source": [
    "class Manufactoring(Employee):\n",
    "    def __init__(self, name, salary, hours_per_week, role='Manufactoring'):\n",
    "        super().__init__(name, role, salary)\n",
    "        self.__hours_per_week = hours_per_week\n",
    "\n",
    "    def get_hours_per_week(self):\n",
    "        return self.__hours_per_week\n",
    "\n",
    "    def set_hours_per_week(self, hours_per_week):\n",
    "        self.__hours_per_week = hours_per_week\n",
    "\n",
    "    def calculate_salary(manufactoring):\n",
    "        return manufactoring.get_salary() * manufactoring.get_hours_per_week()"
   ]
  },
  {
   "cell_type": "code",
   "execution_count": 11,
   "metadata": {},
   "outputs": [],
   "source": [
    "class Sales_associate(Employee):\n",
    "    def __init__(self, name, salary, commission, role='Sales associate'):\n",
    "        super().__init__(name, role, salary)\n",
    "        self.__commission = commission\n",
    "\n",
    "    def get_commission(self):\n",
    "        return self.__commission\n",
    "\n",
    "    def set_commission(self, comission):\n",
    "        self.__commission = comission\n",
    "    \n",
    "    def calculate_salary(sales_associate):\n",
    "        return sales_associate.get_salary() + sales_associate.get_commission()"
   ]
  },
  {
   "cell_type": "code",
   "execution_count": 12,
   "metadata": {},
   "outputs": [],
   "source": [
    "foo = Sales_associate('Foo', 1000, 250)\n",
    "\n",
    "result = Sales_associate.calculate_salary(foo)\n",
    "assert result == 1250"
   ]
  },
  {
   "cell_type": "markdown",
   "metadata": {},
   "source": [
    "Other way to do this would be assigning the Employee class all the responsability with a functions than asks for the role of the employee and then makes the corresponding operation to obtain the weekly salary. \n",
    "\n",
    "I don't think it's the correct answer though because thats why we have OOP and inheritance. Also I think it would be better to have a method that works with the self parameter, because this way you could ask the object itself to calculate their own salary."
   ]
  }
 ],
 "metadata": {
  "kernelspec": {
   "display_name": "Python 3.10.8 64-bit",
   "language": "python",
   "name": "python3"
  },
  "language_info": {
   "codemirror_mode": {
    "name": "ipython",
    "version": 3
   },
   "file_extension": ".py",
   "mimetype": "text/x-python",
   "name": "python",
   "nbconvert_exporter": "python",
   "pygments_lexer": "ipython3",
   "version": "3.10.8"
  },
  "orig_nbformat": 4,
  "vscode": {
   "interpreter": {
    "hash": "f70c1e2fb12efbb75f4672ba1915fe938ef6bbf49e61743293f7740cd33511b7"
   }
  }
 },
 "nbformat": 4,
 "nbformat_minor": 2
}
