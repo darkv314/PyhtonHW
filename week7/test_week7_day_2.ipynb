{
 "cells": [
  {
   "cell_type": "markdown",
   "metadata": {},
   "source": [
    "**Association**\n",
    "\n",
    "If two classes in a model need to communicate with each other, there must be a link between them, and that can be represented by an association (connector)."
   ]
  },
  {
   "cell_type": "markdown",
   "metadata": {},
   "source": [
    "We can indicate the multiplicity of an association by adding multiplicity adornments to the line denoting the association. \n",
    "\n",
    "The example indicates that a Student has one or more Instructors = A single student can associate with multiple teachers"
   ]
  },
  {
   "cell_type": "markdown",
   "metadata": {},
   "source": [
    "![images](images/04-association-multiplicity-example-01.webp)"
   ]
  },
  {
   "cell_type": "markdown",
   "metadata": {},
   "source": [
    "The example indicates that every Instructor has one or more Students\n",
    "\n",
    "![images](images/05-association-multiplicity-example-02.webp)"
   ]
  },
  {
   "cell_type": "markdown",
   "metadata": {},
   "source": [
    "We can also indicate the behavior of an object in an association (i.e., the role of an object) using role names\n",
    "\n",
    "![images](images/06-association-multiplicity-example-03.webp)"
   ]
  },
  {
   "cell_type": "markdown",
   "metadata": {},
   "source": [
    "**Aggregation** and **Composition** are subsets of association meaning they are specific cases of association. \n",
    "\n",
    "In both aggregation and composition **object of one class \"owns\" object of another class**. But there is a subtle difference:"
   ]
  },
  {
   "cell_type": "markdown",
   "metadata": {},
   "source": [
    "## Aggregation\n",
    "There is a relationship where the \"dependent\" can exist independently of the \"owner\". \n",
    "\n",
    "**Example**: Class (owner) and Student (dependent). Delete the **Class** and the **Student** still exist."
   ]
  },
  {
   "cell_type": "markdown",
   "metadata": {},
   "source": [
    "## Composition \n",
    "There is a relationship where the \"dependent\" cannot exist independent of the \"owner\". \n",
    "\n",
    "**Example**: House (owner) and Room (dependent). Rooms don't exist separate to a House."
   ]
  },
  {
   "cell_type": "code",
   "execution_count": 15,
   "metadata": {},
   "outputs": [],
   "source": [
    "# An instance of Team class  can have up to 9 Player instances (objects)\n",
    "# Aggregation\n",
    "\n",
    "class Team:\n",
    "\n",
    "    def __init__(self):\n",
    "        print(\"Team ctr\")\n",
    "        self.players = [] # players is acccesible in read/write mode (is public)"
   ]
  },
  {
   "cell_type": "code",
   "execution_count": 3,
   "metadata": {},
   "outputs": [],
   "source": [
    "class Player:\n",
    "    pass\n"
   ]
  },
  {
   "cell_type": "code",
   "execution_count": 13,
   "metadata": {},
   "outputs": [
    {
     "name": "stdout",
     "output_type": "stream",
     "text": [
      "<__main__.Player object at 0x1153744f0> <class '__main__.Player'>\n"
     ]
    }
   ],
   "source": [
    "p1 = Player()\n",
    "\n",
    "print(p1, type(p1))\n",
    "# print(p1.players)"
   ]
  },
  {
   "cell_type": "code",
   "execution_count": 16,
   "metadata": {},
   "outputs": [
    {
     "name": "stdout",
     "output_type": "stream",
     "text": [
      "Team ctr\n",
      "<__main__.Team object at 0x115343ee0> <class '__main__.Team'>\n",
      "[]\n"
     ]
    }
   ],
   "source": [
    "team = Team()\n",
    "print(team, type(team))\n",
    "print(team.players)"
   ]
  },
  {
   "cell_type": "code",
   "execution_count": 17,
   "metadata": {},
   "outputs": [
    {
     "name": "stdout",
     "output_type": "stream",
     "text": [
      "[<__main__.Player object at 0x115395c60>]\n"
     ]
    }
   ],
   "source": [
    "team.players.append(Player())\n",
    "print(team.players)"
   ]
  },
  {
   "cell_type": "code",
   "execution_count": 18,
   "metadata": {},
   "outputs": [
    {
     "name": "stdout",
     "output_type": "stream",
     "text": [
      "[<__main__.Player object at 0x115395c60>, <__main__.Player object at 0x1156468f0>, <__main__.Player object at 0x115644370>]\n"
     ]
    }
   ],
   "source": [
    "team.players += [Player(), Player()]\n",
    "print(team.players)"
   ]
  },
  {
   "cell_type": "code",
   "execution_count": 40,
   "metadata": {},
   "outputs": [],
   "source": [
    "# 1. Communicate self.players is \"private member\" by doing this: self.__players\n",
    "# Mark data as private/protected using __ (double underscore).\n",
    "# and ADD a \"set\" method to update data in attribute self.__players\n",
    "# and a get method to read self.__players\n",
    "\n",
    "class Team:\n",
    "    \n",
    "    #  a private member: attribs, methods can be defined by using a prefix __ (double underscore).\n",
    "    def __init__(self):\n",
    "        self.__players = [] # players is NOT directly acccesible in read/write mode\n",
    "\n",
    "\n",
    "    def add_player(self, player_object):\n",
    "        \"\"\"\n",
    "        This method allows me to add a single Player object in the self.__players\n",
    "        \"\"\"\n",
    "        if len(self.__players) >= 9:\n",
    "            raise ValueError('Team has 9 players already')\n",
    "        self.__players.append(player_object)\n",
    "\n",
    "\n",
    "    # If required (it depends on the context of the solution); add a method to add 1...n objects of type Player    \n",
    "    def add_players(self, players):\n",
    "\n",
    "        if len(players) >= 9:\n",
    "            raise ValueError('Input list has more than 9 players')\n",
    "\n",
    "        if len(self.__players) >= 9:\n",
    "            raise ValueError('Team has 9 players already')\n",
    "            \n",
    "        self.__players += players\n",
    "\n",
    "\n",
    "    def get_players(self):\n",
    "        return self.__players\n",
    "    "
   ]
  },
  {
   "cell_type": "code",
   "execution_count": 32,
   "metadata": {},
   "outputs": [
    {
     "ename": "AttributeError",
     "evalue": "'Team' object has no attribute '__players'",
     "output_type": "error",
     "traceback": [
      "\u001b[0;31m---------------------------------------------------------------------------\u001b[0m",
      "\u001b[0;31mAttributeError\u001b[0m                            Traceback (most recent call last)",
      "Cell \u001b[0;32mIn [32], line 3\u001b[0m\n\u001b[1;32m      1\u001b[0m team \u001b[39m=\u001b[39m Team()\n\u001b[1;32m      2\u001b[0m \u001b[39massert\u001b[39;00m \u001b[39misinstance\u001b[39m(team, Team)\n\u001b[0;32m----> 3\u001b[0m \u001b[39mprint\u001b[39m(team\u001b[39m.\u001b[39;49m__players)\n",
      "\u001b[0;31mAttributeError\u001b[0m: 'Team' object has no attribute '__players'"
     ]
    }
   ],
   "source": [
    "team = Team()\n",
    "assert isinstance(team, Team)\n",
    "print(team.__players)"
   ]
  },
  {
   "cell_type": "code",
   "execution_count": 41,
   "metadata": {},
   "outputs": [
    {
     "name": "stdout",
     "output_type": "stream",
     "text": [
      "[<__main__.Player object at 0x10eede170>, <__main__.Player object at 0x115647790>, <__main__.Player object at 0x1156466b0>, <__main__.Player object at 0x115647880>, <__main__.Player object at 0x115647a00>, <__main__.Player object at 0x1156475b0>, <__main__.Player object at 0x115647cd0>, <__main__.Player object at 0x115647d30>, <__main__.Player object at 0x1156449a0>]\n"
     ]
    }
   ],
   "source": [
    "print(team.get_players())"
   ]
  },
  {
   "cell_type": "code",
   "execution_count": 42,
   "metadata": {},
   "outputs": [
    {
     "ename": "ValueError",
     "evalue": "Team has 9 players already",
     "output_type": "error",
     "traceback": [
      "\u001b[0;31m---------------------------------------------------------------------------\u001b[0m",
      "\u001b[0;31mValueError\u001b[0m                                Traceback (most recent call last)",
      "Cell \u001b[0;32mIn [42], line 1\u001b[0m\n\u001b[0;32m----> 1\u001b[0m team\u001b[39m.\u001b[39;49madd_players([Player() \u001b[39mfor\u001b[39;49;00m i \u001b[39min\u001b[39;49;00m \u001b[39mrange\u001b[39;49m(\u001b[39m9\u001b[39;49m)])\n\u001b[1;32m      2\u001b[0m \u001b[39mprint\u001b[39m(team\u001b[39m.\u001b[39mget_players())\n\u001b[1;32m      4\u001b[0m team\u001b[39m.\u001b[39madd_players([Player() \u001b[39mfor\u001b[39;00m i \u001b[39min\u001b[39;00m \u001b[39mrange\u001b[39m(\u001b[39m9\u001b[39m)])\n",
      "Cell \u001b[0;32mIn [31], line 24\u001b[0m, in \u001b[0;36mTeam.add_players\u001b[0;34m(self, players)\u001b[0m\n\u001b[1;32m     22\u001b[0m \u001b[39mdef\u001b[39;00m \u001b[39madd_players\u001b[39m(\u001b[39mself\u001b[39m, players):\n\u001b[1;32m     23\u001b[0m     \u001b[39mif\u001b[39;00m \u001b[39mlen\u001b[39m(\u001b[39mself\u001b[39m\u001b[39m.\u001b[39m__players) \u001b[39m>\u001b[39m\u001b[39m=\u001b[39m \u001b[39m9\u001b[39m:\n\u001b[0;32m---> 24\u001b[0m         \u001b[39mraise\u001b[39;00m \u001b[39mValueError\u001b[39;00m(\u001b[39m'\u001b[39m\u001b[39mTeam has 9 players already\u001b[39m\u001b[39m'\u001b[39m)\n\u001b[1;32m     26\u001b[0m     \u001b[39mself\u001b[39m\u001b[39m.\u001b[39m__players \u001b[39m+\u001b[39m\u001b[39m=\u001b[39m players\n",
      "\u001b[0;31mValueError\u001b[0m: Team has 9 players already"
     ]
    }
   ],
   "source": [
    "team.add_players([Player() for i in range(9)])\n",
    "print(team.get_players())\n",
    "\n",
    "team.add_players([Player() for i in range(9)])"
   ]
  },
  {
   "cell_type": "code",
   "execution_count": 36,
   "metadata": {},
   "outputs": [
    {
     "ename": "ValueError",
     "evalue": "Team has 9 players already",
     "output_type": "error",
     "traceback": [
      "\u001b[0;31m---------------------------------------------------------------------------\u001b[0m",
      "\u001b[0;31mValueError\u001b[0m                                Traceback (most recent call last)",
      "Cell \u001b[0;32mIn [36], line 1\u001b[0m\n\u001b[0;32m----> 1\u001b[0m team\u001b[39m.\u001b[39;49madd_players([])\n\u001b[1;32m      2\u001b[0m \u001b[39mprint\u001b[39m(team\u001b[39m.\u001b[39mget_players())\n",
      "Cell \u001b[0;32mIn [31], line 24\u001b[0m, in \u001b[0;36mTeam.add_players\u001b[0;34m(self, players)\u001b[0m\n\u001b[1;32m     22\u001b[0m \u001b[39mdef\u001b[39;00m \u001b[39madd_players\u001b[39m(\u001b[39mself\u001b[39m, players):\n\u001b[1;32m     23\u001b[0m     \u001b[39mif\u001b[39;00m \u001b[39mlen\u001b[39m(\u001b[39mself\u001b[39m\u001b[39m.\u001b[39m__players) \u001b[39m>\u001b[39m\u001b[39m=\u001b[39m \u001b[39m9\u001b[39m:\n\u001b[0;32m---> 24\u001b[0m         \u001b[39mraise\u001b[39;00m \u001b[39mValueError\u001b[39;00m(\u001b[39m'\u001b[39m\u001b[39mTeam has 9 players already\u001b[39m\u001b[39m'\u001b[39m)\n\u001b[1;32m     26\u001b[0m     \u001b[39mself\u001b[39m\u001b[39m.\u001b[39m__players \u001b[39m+\u001b[39m\u001b[39m=\u001b[39m players\n",
      "\u001b[0;31mValueError\u001b[0m: Team has 9 players already"
     ]
    }
   ],
   "source": [
    "team.add_players([])\n",
    "print(team.get_players())"
   ]
  },
  {
   "cell_type": "code",
   "execution_count": 38,
   "metadata": {},
   "outputs": [
    {
     "name": "stdout",
     "output_type": "stream",
     "text": [
      "[<__main__.Player object at 0x10eedd360>, <__main__.Player object at 0x10eedd9c0>, <__main__.Player object at 0x11566f880>, <__main__.Player object at 0x11566de10>, <__main__.Player object at 0x11566e560>, <__main__.Player object at 0x11566e830>, <__main__.Player object at 0x11566fd90>, <__main__.Player object at 0x11566fd30>, <__main__.Player object at 0x11563ce80>, <__main__.Player object at 0x11563da80>, <__main__.Player object at 0x11563db40>, <__main__.Player object at 0x11563dc60>, <__main__.Player object at 0x11563fa90>, <__main__.Player object at 0x11563dea0>, <__main__.Player object at 0x11563dba0>, <__main__.Player object at 0x115675480>, <__main__.Player object at 0x115675180>, <__main__.Player object at 0x115674e50>, <__main__.Player object at 0x115674be0>]\n"
     ]
    }
   ],
   "source": [
    "team1 = Team()\n",
    "team1.add_players([Player() for i in range(19)])\n",
    "print(team1.get_players())"
   ]
  }
 ],
 "metadata": {
  "kernelspec": {
   "display_name": "Python 3.10.7 64-bit",
   "language": "python",
   "name": "python3"
  },
  "language_info": {
   "codemirror_mode": {
    "name": "ipython",
    "version": 3
   },
   "file_extension": ".py",
   "mimetype": "text/x-python",
   "name": "python",
   "nbconvert_exporter": "python",
   "pygments_lexer": "ipython3",
   "version": "3.10.7"
  },
  "orig_nbformat": 4,
  "vscode": {
   "interpreter": {
    "hash": "aee8b7b246df8f9039afb4144a1f6fd8d2ca17a180786b69acc140d282b71a49"
   }
  }
 },
 "nbformat": 4,
 "nbformat_minor": 2
}
