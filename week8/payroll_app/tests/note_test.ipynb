{
 "cells": [
  {
   "cell_type": "code",
   "execution_count": 7,
   "metadata": {},
   "outputs": [],
   "source": [
    "from abc import ABC, abstractmethod\n",
    "\n",
    "class Employee(ABC):\n",
    "    def __init__(self, id, name):\n",
    "        self.id = id\n",
    "        self.name = name\n",
    "\n",
    "    @abstractmethod\n",
    "    def calculate_payroll(self):\n",
    "        pass\n",
    "\n",
    "\n",
    "class AdmistrativeWorker(Employee):\n",
    "    def __init__(self, id, name, weekly_salary):\n",
    "        super().__init__(id, name)\n",
    "        self.weekly_salary = weekly_salary\n",
    "\n",
    "    def calculate_payroll(self):\n",
    "        return self.weekly_salary\n",
    "\n",
    "\n",
    "class SalesAssociate(AdmistrativeWorker):\n",
    "    def __init__(self, id, name, weekly_salary, commission):\n",
    "        super().__init__(id, name, weekly_salary)\n",
    "        self.commission = commission\n",
    "\n",
    "\n",
    "    # def __calculate_commission(self):\n",
    "    #     sales = self.hours_worked / 5\n",
    "    #     return sales * self.commission\n",
    "\n",
    "\n",
    "    def calculate_payroll(self):\n",
    "        fixed = super().calculate_payroll()\n",
    "        return fixed + self.commission\n",
    "\n",
    "\n",
    "class ManufacturingWorker(Employee):\n",
    "    def __init__(self, id, name, hours_worked, hour_rate):\n",
    "        super().__init__(id, name)\n",
    "        self.hours_worked = hours_worked\n",
    "        self.hour_rate = hour_rate\n",
    "\n",
    "    def calculate_payroll(self):\n",
    "        return self.hours_worked * self.hour_rate\n",
    "\n",
    "class PayrollSystem:\n",
    "\n",
    "    def calculate_payroll(self, employees):\n",
    "        for employee in employees:\n",
    "            if issubclass(type(employee), Employee):\n",
    "                print(f'Payroll for: {employee}')\n",
    "                print(f'Check amount: {employee.calculate_payroll()}')"
   ]
  },
  {
   "cell_type": "code",
   "execution_count": 8,
   "metadata": {},
   "outputs": [
    {
     "ename": "TypeError",
     "evalue": "issubclass() arg 1 must be a class",
     "output_type": "error",
     "traceback": [
      "\u001b[1;31m---------------------------------------------------------------------------\u001b[0m",
      "\u001b[1;31mTypeError\u001b[0m                                 Traceback (most recent call last)",
      "Cell \u001b[1;32mIn [8], line 5\u001b[0m\n\u001b[0;32m      3\u001b[0m employee3 \u001b[39m=\u001b[39m SalesAssociate(\u001b[39m3\u001b[39m, \u001b[39m'\u001b[39m\u001b[39mMaria\u001b[39m\u001b[39m'\u001b[39m, \u001b[39m1000\u001b[39m, \u001b[39m12\u001b[39m)\n\u001b[0;32m      4\u001b[0m new_payroll \u001b[39m=\u001b[39m PayrollSystem()\n\u001b[1;32m----> 5\u001b[0m new_payroll\u001b[39m.\u001b[39;49mcalculate_payroll([employee1, employee2, employee3])\n",
      "Cell \u001b[1;32mIn [7], line 51\u001b[0m, in \u001b[0;36mPayrollSystem.calculate_payroll\u001b[1;34m(self, employees)\u001b[0m\n\u001b[0;32m     49\u001b[0m \u001b[39mdef\u001b[39;00m \u001b[39mcalculate_payroll\u001b[39m(\u001b[39mself\u001b[39m, employees):\n\u001b[0;32m     50\u001b[0m     \u001b[39mfor\u001b[39;00m employee \u001b[39min\u001b[39;00m employees:\n\u001b[1;32m---> 51\u001b[0m         \u001b[39mif\u001b[39;00m \u001b[39missubclass\u001b[39;49m(employee, Employee):\n\u001b[0;32m     52\u001b[0m             \u001b[39mprint\u001b[39m(\u001b[39mf\u001b[39m\u001b[39m'\u001b[39m\u001b[39mPayroll for: \u001b[39m\u001b[39m{\u001b[39;00memployee\u001b[39m}\u001b[39;00m\u001b[39m'\u001b[39m)\n\u001b[0;32m     53\u001b[0m             \u001b[39mprint\u001b[39m(\u001b[39mf\u001b[39m\u001b[39m'\u001b[39m\u001b[39mCheck amount: \u001b[39m\u001b[39m{\u001b[39;00memployee\u001b[39m.\u001b[39mcalculate_payroll()\u001b[39m}\u001b[39;00m\u001b[39m'\u001b[39m)\n",
      "File \u001b[1;32mc:\\Users\\Ricardo\\AppData\\Local\\Programs\\Python\\Python310\\lib\\abc.py:123\u001b[0m, in \u001b[0;36mABCMeta.__subclasscheck__\u001b[1;34m(cls, subclass)\u001b[0m\n\u001b[0;32m    121\u001b[0m \u001b[39mdef\u001b[39;00m \u001b[39m__subclasscheck__\u001b[39m(\u001b[39mcls\u001b[39m, subclass):\n\u001b[0;32m    122\u001b[0m     \u001b[39m\"\"\"Override for issubclass(subclass, cls).\"\"\"\u001b[39;00m\n\u001b[1;32m--> 123\u001b[0m     \u001b[39mreturn\u001b[39;00m _abc_subclasscheck(\u001b[39mcls\u001b[39;49m, subclass)\n",
      "\u001b[1;31mTypeError\u001b[0m: issubclass() arg 1 must be a class"
     ]
    }
   ],
   "source": [
    "employee1 = AdmistrativeWorker(1, 'Pedro', 1200)\n",
    "employee2 = ManufacturingWorker(2, 'Juan', 40, 12)\n",
    "employee3 = SalesAssociate(3, 'Maria', 1000, 12)\n",
    "new_payroll = PayrollSystem()\n",
    "new_payroll.calculate_payroll([employee1, employee2, employee3])"
   ]
  }
 ],
 "metadata": {
  "kernelspec": {
   "display_name": "Python 3.10.8 64-bit",
   "language": "python",
   "name": "python3"
  },
  "language_info": {
   "codemirror_mode": {
    "name": "ipython",
    "version": 3
   },
   "file_extension": ".py",
   "mimetype": "text/x-python",
   "name": "python",
   "nbconvert_exporter": "python",
   "pygments_lexer": "ipython3",
   "version": "3.10.8"
  },
  "orig_nbformat": 4,
  "vscode": {
   "interpreter": {
    "hash": "f70c1e2fb12efbb75f4672ba1915fe938ef6bbf49e61743293f7740cd33511b7"
   }
  }
 },
 "nbformat": 4,
 "nbformat_minor": 2
}
