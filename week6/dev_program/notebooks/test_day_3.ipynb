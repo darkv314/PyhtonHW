{
 "cells": [
  {
   "cell_type": "code",
   "execution_count": 2,
   "metadata": {},
   "outputs": [],
   "source": [
    "class Duration:\n",
    "    \n",
    "    # Every Object to class Duration, is contructed by passing this values  hours, minutes, seconds\n",
    "    def __init__(self, hours, minutes, seconds):\n",
    "        # atributes of \"Duration\" class\n",
    "        self.hours = hours\n",
    "        self.minutes = hours\n",
    "        self.seconds = hours"
   ]
  },
  {
   "cell_type": "code",
   "execution_count": 3,
   "metadata": {},
   "outputs": [
    {
     "name": "stdout",
     "output_type": "stream",
     "text": [
      "<__main__.Duration object at 0x1191cc4f0>\n"
     ]
    }
   ],
   "source": [
    "print(Duration(10, 30, 0))"
   ]
  },
  {
   "cell_type": "code",
   "execution_count": 5,
   "metadata": {},
   "outputs": [],
   "source": [
    "class Duration:\n",
    "    \n",
    "    # Every Object to class Duration, is contructed by passing this values  hours, minutes, seconds\n",
    "    def __init__(self, hours, minutes, seconds):\n",
    "        # atributes of \"Duration\" class\n",
    "        self.hours = hours\n",
    "        self.minutes = hours\n",
    "        self.seconds = hours\n",
    "\n",
    "\n",
    "    def __str__(self) -> str:\n",
    "        return f\"{self.hours}h {self.minutes}m {self.seconds}s\"\n",
    "    "
   ]
  },
  {
   "cell_type": "code",
   "execution_count": 6,
   "metadata": {},
   "outputs": [
    {
     "name": "stdout",
     "output_type": "stream",
     "text": [
      "10h 10m 10s\n"
     ]
    }
   ],
   "source": [
    "print(Duration(10, 30, 0))"
   ]
  },
  {
   "cell_type": "code",
   "execution_count": 5,
   "metadata": {},
   "outputs": [
    {
     "name": "stdout",
     "output_type": "stream",
     "text": [
      "variable `in_meeting_duration` is of type  <class '__main__.Duration'>\n",
      "in_meeting_duration.hours 10 <class 'int'>\n",
      "in_meeting_duration.hours 100 <class 'int'>\n"
     ]
    }
   ],
   "source": [
    "# Call the constructor of the class \n",
    "# we call the constructor as a funtion call, for example Duration(...) (BUT this call calls the __init__ of the class)\n",
    "\n",
    "in_meeting_duration = Duration(10, 30, 0)\n",
    "print(\"variable `in_meeting_duration` is of type \", type(in_meeting_duration))\n",
    "\n",
    "# Read acccess to attributes defined by the class\n",
    "print(\"in_meeting_duration.hours\", in_meeting_duration.hours, type(in_meeting_duration.hours))\n",
    "\n",
    "\n",
    "# Write acccess to attributes defined by the class\n",
    "in_meeting_duration.hours = 100\n",
    "print(\"in_meeting_duration.hours\", in_meeting_duration.hours, type(in_meeting_duration.hours))\n",
    "\n"
   ]
  },
  {
   "cell_type": "code",
   "execution_count": 15,
   "metadata": {},
   "outputs": [],
   "source": [
    "class Participant:\n",
    "    def __init__(self, full_name, duration: Duration):\n",
    "        self.full_name = full_name\n",
    "        self.duration = duration"
   ]
  },
  {
   "cell_type": "code",
   "execution_count": 16,
   "metadata": {},
   "outputs": [
    {
     "name": "stdout",
     "output_type": "stream",
     "text": [
      "<__main__.Participant object at 0x11622f850> <class '__main__.Participant'>\n",
      "<__main__.Duration object at 0x11622f760> <class '__main__.Duration'>\n",
      "0 <class 'int'>\n"
     ]
    }
   ],
   "source": [
    "duration = Duration(0, 0, 0)\n",
    "participant1 = Participant('maria m', duration)\n",
    "print(participant1, type(participant1))\n",
    "\n",
    "\n",
    "print(participant1.duration, type(participant1.duration))\n",
    "\n",
    "print(participant1.duration.hours, type(participant1.duration.hours))"
   ]
  },
  {
   "cell_type": "code",
   "execution_count": 11,
   "metadata": {},
   "outputs": [
    {
     "name": "stdout",
     "output_type": "stream",
     "text": [
      "<__main__.Participant object at 0x11622fe20> <class '__main__.Participant'>\n"
     ]
    }
   ],
   "source": [
    "participant2 = Participant('maria m', Duration(0, 0, 0))\n",
    "print(participant2, type(participant2))"
   ]
  },
  {
   "cell_type": "code",
   "execution_count": 20,
   "metadata": {},
   "outputs": [
    {
     "name": "stdout",
     "output_type": "stream",
     "text": [
      "<__main__.Participant object at 0x10fea2650> <class '__main__.Participant'>\n",
      "{'hours': 10, 'minutes': 0, 'seconds': 0} <class 'dict'>\n"
     ]
    },
    {
     "ename": "AttributeError",
     "evalue": "'dict' object has no attribute 'hours'",
     "output_type": "error",
     "traceback": [
      "\u001b[0;31m---------------------------------------------------------------------------\u001b[0m",
      "\u001b[0;31mAttributeError\u001b[0m                            Traceback (most recent call last)",
      "Cell \u001b[0;32mIn [20], line 8\u001b[0m\n\u001b[1;32m      6\u001b[0m \u001b[39mprint\u001b[39m(participant3, \u001b[39mtype\u001b[39m(participant3))\n\u001b[1;32m      7\u001b[0m \u001b[39mprint\u001b[39m(participant3\u001b[39m.\u001b[39mduration, \u001b[39mtype\u001b[39m(participant3\u001b[39m.\u001b[39mduration))\n\u001b[0;32m----> 8\u001b[0m \u001b[39mprint\u001b[39m(participant3\u001b[39m.\u001b[39;49mduration\u001b[39m.\u001b[39;49mhours, \u001b[39mtype\u001b[39m(participant3\u001b[39m.\u001b[39mduration\u001b[39m.\u001b[39mhours))\n",
      "\u001b[0;31mAttributeError\u001b[0m: 'dict' object has no attribute 'hours'"
     ]
    }
   ],
   "source": [
    "participant3 = Participant('maria m', {\n",
    "    'hours': 10,\n",
    "    'minutes': 0,\n",
    "    'seconds': 0\n",
    "})\n",
    "print(participant3, type(participant3))\n",
    "print(participant3.duration, type(participant3.duration))\n",
    "print(participant3.duration.hours, type(participant3.duration.hours))"
   ]
  },
  {
   "cell_type": "code",
   "execution_count": 12,
   "metadata": {},
   "outputs": [
    {
     "name": "stdout",
     "output_type": "stream",
     "text": [
      "{'hours': 10, 'minutes': 0, 'seconds': 0} <class 'dict'>\n"
     ]
    }
   ],
   "source": [
    "d = {\n",
    "    'hours': 10,\n",
    "    'minutes': 0,\n",
    "    'seconds': 0\n",
    "}\n",
    "\n",
    "print(d, type(d))"
   ]
  },
  {
   "cell_type": "code",
   "execution_count": 14,
   "metadata": {},
   "outputs": [
    {
     "name": "stdout",
     "output_type": "stream",
     "text": [
      "<__main__.Duration object at 0x11622fa90> <class '__main__.Duration'>\n",
      "0 <class 'int'>\n"
     ]
    }
   ],
   "source": [
    "d1 = Duration(0, 0, 0)\n",
    "print(d1, type(d1))\n",
    "\n",
    "print(d1.hours, type(d1.hours))"
   ]
  }
 ],
 "metadata": {
  "kernelspec": {
   "display_name": "Python 3.10.7 64-bit",
   "language": "python",
   "name": "python3"
  },
  "language_info": {
   "codemirror_mode": {
    "name": "ipython",
    "version": 3
   },
   "file_extension": ".py",
   "mimetype": "text/x-python",
   "name": "python",
   "nbconvert_exporter": "python",
   "pygments_lexer": "ipython3",
   "version": "3.10.7"
  },
  "orig_nbformat": 4,
  "vscode": {
   "interpreter": {
    "hash": "aee8b7b246df8f9039afb4144a1f6fd8d2ca17a180786b69acc140d282b71a49"
   }
  }
 },
 "nbformat": 4,
 "nbformat_minor": 2
}
